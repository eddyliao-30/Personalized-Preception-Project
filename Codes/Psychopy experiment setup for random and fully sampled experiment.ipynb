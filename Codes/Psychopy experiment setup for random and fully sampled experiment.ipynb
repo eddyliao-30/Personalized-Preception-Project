{
 "cells": [
  {
   "cell_type": "markdown",
   "id": "91585394",
   "metadata": {},
   "source": [
    "This code is for generating the files and images for Psychopy experiment setup.\n",
    "\n",
    "Please aware the name of the files and images. You may need to slice the string variables to get the correct file name for setup."
   ]
  },
  {
   "cell_type": "code",
   "execution_count": 1,
   "id": "97e00e0d",
   "metadata": {},
   "outputs": [],
   "source": [
    "#finding images from local devices\n",
    "import pandas\n",
    "\n",
    "import os, fnmatch\n",
    "from shutil import copyfile\n",
    "\n",
    "def find(pattern, path, flag=False):\n",
    "    result = []\n",
    "    for root, dirs, files in os.walk(path):\n",
    "        for name in files:\n",
    "            if fnmatch.fnmatch(name, pattern):\n",
    "                if flag:\n",
    "                    result.append(name)\n",
    "                else:\n",
    "                    result.append(r'images/{}'.format(name))\n",
    "    return result\n"
   ]
  },
  {
   "cell_type": "code",
   "execution_count": 2,
   "id": "8bc98cda",
   "metadata": {},
   "outputs": [],
   "source": [
    "dataset_dir=r''# The direction of  image dataset for experiment setup"
   ]
  },
  {
   "cell_type": "code",
   "execution_count": 3,
   "id": "a62c3c32",
   "metadata": {},
   "outputs": [],
   "source": [
    "result = find('*.jpg',dataset_dir,flag=True)"
   ]
  },
  {
   "cell_type": "markdown",
   "id": "650d7665",
   "metadata": {},
   "source": [
    "#Fully sampled data management"
   ]
  },
  {
   "cell_type": "code",
   "execution_count": 12,
   "id": "078df69e",
   "metadata": {},
   "outputs": [
    {
     "name": "stdout",
     "output_type": "stream",
     "text": [
      "['pixabay_dog_000042.jpg', 'pixabay_dog_003971.jpg', 'flickr_dog_000566.jpg', 'pixabay_dog_001150.jpg', 'flickr_dog_001079.jpg', 'pixabay_dog_003305.jpg', 'pixabay_dog_002899.jpg', 'pixabay_dog_003098.jpg', 'pixabay_dog_002268.jpg', 'pixabay_dog_000744.jpg', 'flickr_dog_000861.jpg', 'pixabay_dog_003238.jpg', 'flickr_dog_000261.jpg', 'pixabay_dog_002360.jpg', 'pixabay_dog_002744.jpg', 'flickr_dog_000019.jpg', 'pixabay_dog_002861.jpg', 'pixabay_dog_001255.jpg', 'pixabay_dog_000914.jpg', 'flickr_dog_000932.jpg', 'pixabay_dog_001712.jpg', 'flickr_dog_000279.jpg', 'flickr_dog_000201.jpg', 'flickr_dog_000232.jpg', 'pixabay_dog_003727.jpg', 'flickr_dog_000083.jpg', 'pixabay_dog_002282.jpg', 'pixabay_dog_000805.jpg', 'pixabay_dog_002649.jpg', 'flickr_dog_000266.jpg', 'pixabay_dog_003604.jpg', 'pixabay_dog_000853.jpg', 'pixabay_dog_002793.jpg', 'pixabay_dog_003310.jpg', 'pixabay_dog_003829.jpg', 'pixabay_dog_000952.jpg', 'pixabay_dog_001960.jpg', 'pixabay_dog_000932.jpg', 'pixabay_dog_000825.jpg', 'pixabay_dog_002989.jpg', 'pixabay_dog_001465.jpg', 'flickr_dog_000194.jpg', 'pixabay_dog_002596.jpg', 'pixabay_dog_003859.jpg', 'flickr_dog_000913.jpg', 'pixabay_dog_000525.jpg', 'pixabay_dog_001524.jpg', 'flickr_dog_001107.jpg', 'pixabay_dog_001843.jpg', 'pixabay_dog_003357.jpg', 'pixabay_dog_003423.jpg', 'pixabay_dog_000560.jpg', 'pixabay_dog_001589.jpg', 'pixabay_dog_001414.jpg', 'pixabay_dog_003342.jpg', 'pixabay_dog_003400.jpg', 'pixabay_dog_002393.jpg', 'flickr_dog_000312.jpg', 'pixabay_dog_003170.jpg', 'pixabay_dog_001037.jpg', 'pixabay_dog_002488.jpg', 'pixabay_dog_002580.jpg', 'pixabay_dog_000399.jpg', 'pixabay_dog_002156.jpg', 'pixabay_dog_003795.jpg', 'pixabay_dog_002224.jpg', 'flickr_dog_000789.jpg', 'pixabay_dog_002803.jpg', 'pixabay_dog_003429.jpg', 'flickr_dog_000984.jpg', 'pixabay_dog_000310.jpg', 'pixabay_dog_003546.jpg', 'pixabay_dog_002392.jpg', 'pixabay_dog_002187.jpg', 'pixabay_dog_003255.jpg', 'flickr_dog_000271.jpg', 'pixabay_dog_003072.jpg', 'flickr_dog_000393.jpg', 'pixabay_dog_001632.jpg', 'pixabay_dog_004054.jpg', 'pixabay_dog_002395.jpg', 'pixabay_dog_000374.jpg', 'pixabay_dog_000359.jpg', 'pixabay_dog_003370.jpg', 'pixabay_dog_000898.jpg', 'flickr_dog_000110.jpg', 'pixabay_dog_000651.jpg', 'pixabay_dog_003708.jpg', 'pixabay_dog_003791.jpg', 'pixabay_dog_000944.jpg', 'pixabay_dog_002490.jpg', 'pixabay_dog_003476.jpg', 'pixabay_dog_001945.jpg', 'pixabay_dog_004051.jpg', 'pixabay_dog_002029.jpg', 'pixabay_dog_002985.jpg', 'pixabay_dog_001279.jpg', 'pixabay_dog_003789.jpg', 'flickr_dog_000050.jpg', 'pixabay_dog_002305.jpg']\n"
     ]
    }
   ],
   "source": [
    "#using whole dataset and random sample images with random seed 1\n",
    "import random \n",
    "random.seed(1)\n",
    "d=random.sample(result,k=50)\n",
    "print(d)"
   ]
  },
  {
   "cell_type": "code",
   "execution_count": 8,
   "id": "ba16becd",
   "metadata": {},
   "outputs": [],
   "source": [
    "# Checking coinside in dataset\n",
    "for i in range(len(d)):\n",
    "    for j in range(i+1,len(d)):\n",
    "        if d[i]==d[j]:\n",
    "            print('coinside')\n",
    "            break"
   ]
  },
  {
   "cell_type": "markdown",
   "id": "c45f5f8b",
   "metadata": {},
   "source": [
    "Devided the sampled dataset into 2 images vector for comparison"
   ]
  },
  {
   "cell_type": "code",
   "execution_count": 9,
   "id": "6258378a",
   "metadata": {},
   "outputs": [],
   "source": [
    "n=len(d)\n",
    "img=[]\n",
    "for i in range(n):\n",
    "    for j in range(i,n):\n",
    "        if d[i]!=d[j]:\n",
    "            img.append([r'images/'+d[i],r'images/'+d[j]])"
   ]
  },
  {
   "cell_type": "code",
   "execution_count": 10,
   "id": "37622257",
   "metadata": {},
   "outputs": [
    {
     "name": "stdout",
     "output_type": "stream",
     "text": [
      "1225\n",
      "[['images/0.jpg', 'images/1.jpg'], ['images/0.jpg', 'images/10.jpg'], ['images/0.jpg', 'images/102.jpg'], ['images/0.jpg', 'images/11.jpg'], ['images/0.jpg', 'images/12.jpg'], ['images/0.jpg', 'images/13.jpg'], ['images/0.jpg', 'images/14.jpg'], ['images/0.jpg', 'images/17.jpg'], ['images/0.jpg', 'images/19.jpg'], ['images/0.jpg', 'images/2.jpg'], ['images/0.jpg', 'images/21.jpg'], ['images/0.jpg', 'images/23.jpg'], ['images/0.jpg', 'images/26.jpg'], ['images/0.jpg', 'images/28.jpg'], ['images/0.jpg', 'images/29.jpg'], ['images/0.jpg', 'images/3.jpg'], ['images/0.jpg', 'images/31.jpg'], ['images/0.jpg', 'images/32.jpg'], ['images/0.jpg', 'images/33.jpg'], ['images/0.jpg', 'images/35.jpg'], ['images/0.jpg', 'images/36.jpg'], ['images/0.jpg', 'images/4.jpg'], ['images/0.jpg', 'images/41.jpg'], ['images/0.jpg', 'images/42.jpg'], ['images/0.jpg', 'images/43.jpg'], ['images/0.jpg', 'images/44.jpg'], ['images/0.jpg', 'images/46.jpg'], ['images/0.jpg', 'images/48.jpg'], ['images/0.jpg', 'images/49.jpg'], ['images/0.jpg', 'images/54.jpg'], ['images/0.jpg', 'images/56.jpg'], ['images/0.jpg', 'images/58.jpg'], ['images/0.jpg', 'images/60.jpg'], ['images/0.jpg', 'images/65.jpg'], ['images/0.jpg', 'images/66.jpg'], ['images/0.jpg', 'images/67.jpg'], ['images/0.jpg', 'images/68.jpg'], ['images/0.jpg', 'images/69.jpg'], ['images/0.jpg', 'images/71.jpg'], ['images/0.jpg', 'images/72.jpg'], ['images/0.jpg', 'images/78.jpg'], ['images/0.jpg', 'images/8.jpg'], ['images/0.jpg', 'images/83.jpg'], ['images/0.jpg', 'images/84.jpg'], ['images/0.jpg', 'images/9.jpg'], ['images/0.jpg', 'images/90.jpg'], ['images/0.jpg', 'images/92.jpg'], ['images/0.jpg', 'images/95.jpg'], ['images/0.jpg', 'images/97.jpg'], ['images/1.jpg', 'images/10.jpg']]\n"
     ]
    }
   ],
   "source": [
    "print(len(img))\n",
    "print(img[:50])"
   ]
  },
  {
   "cell_type": "code",
   "execution_count": 28,
   "id": "69cc7cf1",
   "metadata": {},
   "outputs": [
    {
     "name": "stdout",
     "output_type": "stream",
     "text": [
      "1225\n",
      "[['images/1.jpg', 'images/8.jpg'], ['images/23.jpg', 'images/56.jpg'], ['images/69.jpg', 'images/92.jpg'], ['images/35.jpg', 'images/65.jpg'], ['images/29.jpg', 'images/95.jpg'], ['images/0.jpg', 'images/92.jpg'], ['images/41.jpg', 'images/68.jpg'], ['images/33.jpg', 'images/67.jpg'], ['images/19.jpg', 'images/23.jpg'], ['images/35.jpg', 'images/43.jpg'], ['images/46.jpg', 'images/9.jpg'], ['images/14.jpg', 'images/28.jpg'], ['images/19.jpg', 'images/42.jpg'], ['images/14.jpg', 'images/41.jpg'], ['images/31.jpg', 'images/54.jpg'], ['images/31.jpg', 'images/69.jpg'], ['images/21.jpg', 'images/36.jpg'], ['images/44.jpg', 'images/69.jpg'], ['images/0.jpg', 'images/60.jpg'], ['images/28.jpg', 'images/56.jpg'], ['images/68.jpg', 'images/78.jpg'], ['images/29.jpg', 'images/3.jpg'], ['images/13.jpg', 'images/83.jpg'], ['images/31.jpg', 'images/43.jpg'], ['images/0.jpg', 'images/42.jpg'], ['images/36.jpg', 'images/90.jpg'], ['images/2.jpg', 'images/4.jpg'], ['images/26.jpg', 'images/49.jpg'], ['images/72.jpg', 'images/78.jpg'], ['images/23.jpg', 'images/83.jpg'], ['images/26.jpg', 'images/43.jpg'], ['images/19.jpg', 'images/58.jpg'], ['images/1.jpg', 'images/69.jpg'], ['images/19.jpg', 'images/78.jpg'], ['images/3.jpg', 'images/72.jpg'], ['images/10.jpg', 'images/44.jpg'], ['images/12.jpg', 'images/58.jpg'], ['images/28.jpg', 'images/84.jpg'], ['images/66.jpg', 'images/72.jpg'], ['images/11.jpg', 'images/54.jpg'], ['images/23.jpg', 'images/44.jpg'], ['images/28.jpg', 'images/58.jpg'], ['images/43.jpg', 'images/68.jpg'], ['images/14.jpg', 'images/31.jpg'], ['images/102.jpg', 'images/14.jpg'], ['images/29.jpg', 'images/35.jpg'], ['images/19.jpg', 'images/65.jpg'], ['images/19.jpg', 'images/95.jpg'], ['images/54.jpg', 'images/71.jpg'], ['images/4.jpg', 'images/60.jpg']]\n"
     ]
    }
   ],
   "source": [
    "#Shuffle the images pairs for experiment\n",
    "import random\n",
    "print(len(img))\n",
    "random.shuffle(img)\n",
    "print(img[:50])\n"
   ]
  },
  {
   "cell_type": "code",
   "execution_count": 29,
   "id": "c3688e10",
   "metadata": {},
   "outputs": [
    {
     "name": "stdout",
     "output_type": "stream",
     "text": [
      "['images/1.jpg', 'images/23.jpg', 'images/69.jpg', 'images/35.jpg', 'images/29.jpg', 'images/0.jpg', 'images/41.jpg', 'images/33.jpg', 'images/19.jpg', 'images/35.jpg', 'images/46.jpg', 'images/14.jpg', 'images/19.jpg', 'images/14.jpg', 'images/31.jpg', 'images/31.jpg', 'images/21.jpg', 'images/44.jpg', 'images/0.jpg', 'images/28.jpg', 'images/68.jpg', 'images/29.jpg', 'images/13.jpg', 'images/31.jpg', 'images/0.jpg', 'images/36.jpg', 'images/2.jpg', 'images/26.jpg', 'images/72.jpg', 'images/23.jpg', 'images/26.jpg', 'images/19.jpg', 'images/1.jpg', 'images/19.jpg', 'images/3.jpg', 'images/10.jpg', 'images/12.jpg', 'images/28.jpg', 'images/66.jpg', 'images/11.jpg', 'images/23.jpg', 'images/28.jpg', 'images/43.jpg', 'images/14.jpg', 'images/102.jpg', 'images/29.jpg', 'images/19.jpg', 'images/19.jpg', 'images/54.jpg', 'images/4.jpg']\n",
      "['images/8.jpg', 'images/56.jpg', 'images/92.jpg', 'images/65.jpg', 'images/95.jpg', 'images/92.jpg', 'images/68.jpg', 'images/67.jpg', 'images/23.jpg', 'images/43.jpg', 'images/9.jpg', 'images/28.jpg', 'images/42.jpg', 'images/41.jpg', 'images/54.jpg', 'images/69.jpg', 'images/36.jpg', 'images/69.jpg', 'images/60.jpg', 'images/56.jpg', 'images/78.jpg', 'images/3.jpg', 'images/83.jpg', 'images/43.jpg', 'images/42.jpg', 'images/90.jpg', 'images/4.jpg', 'images/49.jpg', 'images/78.jpg', 'images/83.jpg', 'images/43.jpg', 'images/58.jpg', 'images/69.jpg', 'images/78.jpg', 'images/72.jpg', 'images/44.jpg', 'images/58.jpg', 'images/84.jpg', 'images/72.jpg', 'images/54.jpg', 'images/44.jpg', 'images/58.jpg', 'images/68.jpg', 'images/31.jpg', 'images/14.jpg', 'images/35.jpg', 'images/65.jpg', 'images/95.jpg', 'images/71.jpg', 'images/60.jpg']\n",
      "1225\n",
      "1225\n"
     ]
    }
   ],
   "source": [
    "img1=[]\n",
    "img2=[]\n",
    "for i in img:\n",
    "    img1.append(i[0])\n",
    "    img2.append(i[1])"
   ]
  },
  {
   "cell_type": "markdown",
   "id": "5c585ab0",
   "metadata": {},
   "source": [
    "Distribute images into experiments file for refering"
   ]
  },
  {
   "cell_type": "code",
   "execution_count": 121,
   "id": "6c348553",
   "metadata": {},
   "outputs": [],
   "source": [
    "import glob\n",
    "import shutil\n",
    "import os\n",
    "\n",
    "# src_dir: source direction of images dataset\n",
    "src_dir = ''\n",
    "# dst_dir: experiment's images file direction\n",
    "dst_dir = ''\n",
    "for jpgfile in d:\n",
    "    shutil.copy(src_dir+jpgfile, dst_dir)"
   ]
  },
  {
   "cell_type": "markdown",
   "id": "51d29b2b",
   "metadata": {},
   "source": [
    "Create condition.xlsx for Psychopy setup.\n",
    "\n",
    "#Fully sampled experiment\n",
    "\n",
    "The total trial is 1225 and we split it as 300,300,300,325."
   ]
  },
  {
   "cell_type": "code",
   "execution_count": null,
   "id": "4ed513c7",
   "metadata": {},
   "outputs": [],
   "source": [
    "start=0\n",
    "end=300\n",
    "data=pandas.DataFrame({'img1':img1[start:end],'img2':img2[start:end]})\n",
    "path=''# the location of psychopy experiment file\n",
    "if not os.path.exists(path):\n",
    "    os.makedirs(path)\n",
    "data.to_excel(path+rf\"\\Conditions.xlsx\")\n",
    "print('done')"
   ]
  },
  {
   "cell_type": "code",
   "execution_count": null,
   "id": "fe56aa08",
   "metadata": {},
   "outputs": [],
   "source": [
    "start=300\n",
    "end=600\n",
    "data=pandas.DataFrame({'img1':img1[start:end],'img2':img2[start:end]})\n",
    "path=''# the location of psychopy experiment file\n",
    "if not os.path.exists(path):\n",
    "    os.makedirs(path)\n",
    "data.to_excel(path+rf\"\\Conditions.xlsx\")\n",
    "print('done')"
   ]
  },
  {
   "cell_type": "code",
   "execution_count": null,
   "id": "96f4052d",
   "metadata": {},
   "outputs": [],
   "source": [
    "start=600\n",
    "end=900\n",
    "data=pandas.DataFrame({'img1':img1[start:end],'img2':img2[start:end]})\n",
    "path=''# the location of psychopy experiment file\n",
    "if not os.path.exists(path):\n",
    "    os.makedirs(path)\n",
    "data.to_excel(path+rf\"\\Conditions.xlsx\")\n",
    "print('done')"
   ]
  },
  {
   "cell_type": "code",
   "execution_count": null,
   "id": "71f6e4b8",
   "metadata": {},
   "outputs": [],
   "source": [
    "start=900\n",
    "end=1225\n",
    "data=pandas.DataFrame({'img1':img1[start:end],'img2':img2[start:end]})\n",
    "path=''# the location of psychopy experiment file\n",
    "if not os.path.exists(path):\n",
    "    os.makedirs(path)\n",
    "data.to_excel(path+rf\"\\Conditions.xlsx\")\n",
    "print('done')"
   ]
  },
  {
   "cell_type": "markdown",
   "id": "2cc9a40b",
   "metadata": {},
   "source": [
    "Create condition.xlsx for Psychopy setup.\n",
    "\n",
    "#Random sampled experiment\n",
    "\n",
    "The total trial is 1000 and we split it as 250,250,250,250."
   ]
  },
  {
   "cell_type": "code",
   "execution_count": 20,
   "id": "2db93fda",
   "metadata": {},
   "outputs": [
    {
     "name": "stdout",
     "output_type": "stream",
     "text": [
      "done\n"
     ]
    }
   ],
   "source": [
    "start=0\n",
    "end=250\n",
    "data=pandas.DataFrame({'img1':img1[start:end],'img2':img2[start:end]})\n",
    "path=''# the location of psychopy experiment file\n",
    "if not os.path.exists(path):\n",
    "    os.makedirs(path)\n",
    "\n",
    "data.to_excel(path+rf\"\\Conditions.xlsx\")\n",
    "print('done')"
   ]
  },
  {
   "cell_type": "code",
   "execution_count": 21,
   "id": "0b934035",
   "metadata": {},
   "outputs": [
    {
     "name": "stdout",
     "output_type": "stream",
     "text": [
      "done\n"
     ]
    }
   ],
   "source": [
    "start=250\n",
    "end=500\n",
    "data=pandas.DataFrame({'img1':img1[start:end],'img2':img2[start:end]})\n",
    "path=''# the location of psychopy experiment file\n",
    "if not os.path.exists(path):\n",
    "    os.makedirs(path)\n",
    "\n",
    "data.to_excel(path+rf\"\\Conditions.xlsx\")\n",
    "print('done')"
   ]
  },
  {
   "cell_type": "code",
   "execution_count": 22,
   "id": "09019d66",
   "metadata": {},
   "outputs": [
    {
     "name": "stdout",
     "output_type": "stream",
     "text": [
      "done\n"
     ]
    }
   ],
   "source": [
    "start=500\n",
    "end=750\n",
    "data=pandas.DataFrame({'img1':img1[start:end],'img2':img2[start:end]})\n",
    "path=''# the location of psychopy experiment file\n",
    "if not os.path.exists(path):\n",
    "    os.makedirs(path)\n",
    "data.to_excel(path+rf\"\\Conditions.xlsx\")\n",
    "print('done')"
   ]
  },
  {
   "cell_type": "code",
   "execution_count": null,
   "id": "58d2f15e",
   "metadata": {},
   "outputs": [],
   "source": [
    "start=750\n",
    "end=1000\n",
    "data=pandas.DataFrame({'img1':img1[start:end],'img2':img2[start:end]})\n",
    "path=''# the location of psychopy experiment file\n",
    "if not os.path.exists(path):\n",
    "    os.makedirs(path)\n",
    "data.to_excel(path+rf\"\\Conditions.xlsx\")\n",
    "print('done')"
   ]
  }
 ],
 "metadata": {
  "kernelspec": {
   "display_name": "Python 3",
   "language": "python",
   "name": "python3"
  },
  "language_info": {
   "codemirror_mode": {
    "name": "ipython",
    "version": 3
   },
   "file_extension": ".py",
   "mimetype": "text/x-python",
   "name": "python",
   "nbconvert_exporter": "python",
   "pygments_lexer": "ipython3",
   "version": "3.9.4"
  }
 },
 "nbformat": 4,
 "nbformat_minor": 5
}
