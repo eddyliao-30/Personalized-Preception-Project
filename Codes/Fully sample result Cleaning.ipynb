{
 "cells": [
  {
   "cell_type": "code",
   "execution_count": 1,
   "id": "04063c90",
   "metadata": {},
   "outputs": [],
   "source": [
    "#import experiment data\n",
    "\n",
    "import pandas as pd\n",
    "import glob\n",
    "\n",
    "# path: where you store the csv file\n",
    "path = r'C:\\Users\\eddyl_kayxd9j\\OneDrive\\Desktop\\CV project with Dr,Xiao\\Experiment\\experiment result\\Fully sampled experiment data\\Dog' # use your path\n",
    "all_files = glob.glob(path + \"/*.csv\")\n",
    "\n",
    "li = []\n",
    "\n",
    "for filename in all_files:\n",
    "    df = pd.read_csv(filename, index_col=None, header=0)\n",
    "    li.append(df)\n",
    "\n",
    "frame = pd.concat(li, axis=0, ignore_index=True)"
   ]
  },
  {
   "cell_type": "code",
   "execution_count": 1,
   "id": "c23b390f",
   "metadata": {},
   "outputs": [],
   "source": [
    "#finding images from local devices\n",
    "import pandas\n",
    "\n",
    "import os, fnmatch\n",
    "from shutil import copyfile\n",
    "\n",
    "def find(pattern, data_dir, flag=False):\n",
    "    # pattern: file type\n",
    "    # data_dir: the direction of your data\n",
    "    # flag: True for returning file name\n",
    "    #      False for returning direction+file name \n",
    "    result = []\n",
    "    for root, dirs, files in os.walk(data_dir):\n",
    "        for name in files:\n",
    "            if fnmatch.fnmatch(name, pattern):\n",
    "                if flag:\n",
    "                    result.append(name)\n",
    "                else:\n",
    "                    result.append(r'{}/{}'.format(data_dir,name))\n",
    "    return result"
   ]
  },
  {
   "cell_type": "code",
   "execution_count": 2,
   "id": "901898b8",
   "metadata": {},
   "outputs": [],
   "source": [
    "imgs=find('*.jpg',rf'C:\\Psychopy\\Experiment\\Dog experiment\\Fully sample 0-300 trails\\images')"
   ]
  },
  {
   "cell_type": "code",
   "execution_count": 4,
   "id": "5699a818",
   "metadata": {},
   "outputs": [
    {
     "name": "stdout",
     "output_type": "stream",
     "text": [
      "images/flickr_dog_000019.jpg\n"
     ]
    }
   ],
   "source": [
    "print(imgs[0][64:])"
   ]
  },
  {
   "cell_type": "code",
   "execution_count": 5,
   "id": "bad4f08f",
   "metadata": {},
   "outputs": [
    {
     "name": "stdout",
     "output_type": "stream",
     "text": [
      "['Chenxi Liao', 'Eddy', 'Yun-Jen Tsai']\n"
     ]
    }
   ],
   "source": [
    "experimenters=[]\n",
    "for i in frame['participant']:\n",
    "    if i not in experimenters:\n",
    "        experimenters.append(i)\n",
    "print(experimenters)"
   ]
  },
  {
   "cell_type": "code",
   "execution_count": 6,
   "id": "ed0978ec",
   "metadata": {},
   "outputs": [],
   "source": [
    "fs_data_len=1225"
   ]
  },
  {
   "cell_type": "code",
   "execution_count": 6,
   "id": "21196293",
   "metadata": {
    "scrolled": true
   },
   "outputs": [
    {
     "name": "stdout",
     "output_type": "stream",
     "text": [
      "       participant                           img1  \\\n",
      "0      Chenxi Liao  images/pixabay_dog_000853.jpg   \n",
      "1      Chenxi Liao  images/pixabay_dog_001960.jpg   \n",
      "2      Chenxi Liao  images/pixabay_dog_003971.jpg   \n",
      "3      Chenxi Liao  images/pixabay_dog_000805.jpg   \n",
      "4      Chenxi Liao  images/pixabay_dog_003238.jpg   \n",
      "...            ...                            ...   \n",
      "3670  Yun-Jen Tsai  images/pixabay_dog_001712.jpg   \n",
      "3671  Yun-Jen Tsai  images/pixabay_dog_003238.jpg   \n",
      "3672  Yun-Jen Tsai  images/pixabay_dog_003727.jpg   \n",
      "3673  Yun-Jen Tsai   images/flickr_dog_001079.jpg   \n",
      "3674  Yun-Jen Tsai   images/flickr_dog_000201.jpg   \n",
      "\n",
      "                               img2 key_resp_4.keys  \n",
      "0     images/pixabay_dog_003859.jpg               p  \n",
      "1     images/pixabay_dog_000525.jpg               p  \n",
      "2     images/pixabay_dog_000744.jpg               p  \n",
      "3     images/pixabay_dog_000525.jpg               p  \n",
      "4     images/pixabay_dog_002282.jpg               p  \n",
      "...                             ...             ...  \n",
      "3670  images/pixabay_dog_001524.jpg               q  \n",
      "3671  images/pixabay_dog_003859.jpg               p  \n",
      "3672  images/pixabay_dog_002989.jpg               q  \n",
      "3673  images/pixabay_dog_002268.jpg               p  \n",
      "3674  images/pixabay_dog_002989.jpg               q  \n",
      "\n",
      "[3675 rows x 4 columns]\n"
     ]
    }
   ],
   "source": [
    "data=frame[['participant','img1','img2','key_resp_4.keys']]\n",
    "print(data)"
   ]
  },
  {
   "cell_type": "code",
   "execution_count": 7,
   "id": "e5c1c6df",
   "metadata": {},
   "outputs": [],
   "source": [
    "#create result dictionary for each participant\n",
    "result={}\n",
    "for name in experimenters:\n",
    "    result[name]={}\n",
    "    for i in imgs:\n",
    "        result[name][f'{i[64:]}']=0"
   ]
  },
  {
   "cell_type": "code",
   "execution_count": 12,
   "id": "f73dc0e4",
   "metadata": {},
   "outputs": [
    {
     "name": "stdout",
     "output_type": "stream",
     "text": [
      "{'images/flickr_dog_000019.jpg': 21, 'images/flickr_dog_000083.jpg': 28, 'images/flickr_dog_000194.jpg': 38, 'images/flickr_dog_000201.jpg': 35, 'images/flickr_dog_000232.jpg': 19, 'images/flickr_dog_000261.jpg': 10, 'images/flickr_dog_000266.jpg': 41, 'images/flickr_dog_000279.jpg': 17, 'images/flickr_dog_000566.jpg': 20, 'images/flickr_dog_000861.jpg': 45, 'images/flickr_dog_000913.jpg': 18, 'images/flickr_dog_000932.jpg': 35, 'images/flickr_dog_001079.jpg': 26, 'images/flickr_dog_001107.jpg': 47, 'images/pixabay_dog_000042.jpg': 23, 'images/pixabay_dog_000525.jpg': 9, 'images/pixabay_dog_000744.jpg': 19, 'images/pixabay_dog_000805.jpg': 22, 'images/pixabay_dog_000825.jpg': 44, 'images/pixabay_dog_000853.jpg': 4, 'images/pixabay_dog_000914.jpg': 33, 'images/pixabay_dog_000932.jpg': 10, 'images/pixabay_dog_000952.jpg': 12, 'images/pixabay_dog_001150.jpg': 39, 'images/pixabay_dog_001255.jpg': 14, 'images/pixabay_dog_001465.jpg': 3, 'images/pixabay_dog_001524.jpg': 40, 'images/pixabay_dog_001712.jpg': 18, 'images/pixabay_dog_001843.jpg': 42, 'images/pixabay_dog_001960.jpg': 9, 'images/pixabay_dog_002268.jpg': 19, 'images/pixabay_dog_002282.jpg': 41, 'images/pixabay_dog_002360.jpg': 36, 'images/pixabay_dog_002596.jpg': 31, 'images/pixabay_dog_002649.jpg': 31, 'images/pixabay_dog_002744.jpg': 10, 'images/pixabay_dog_002793.jpg': 12, 'images/pixabay_dog_002861.jpg': 11, 'images/pixabay_dog_002899.jpg': 39, 'images/pixabay_dog_002989.jpg': 5, 'images/pixabay_dog_003098.jpg': 7, 'images/pixabay_dog_003238.jpg': 17, 'images/pixabay_dog_003305.jpg': 39, 'images/pixabay_dog_003310.jpg': 40, 'images/pixabay_dog_003357.jpg': 31, 'images/pixabay_dog_003604.jpg': 43, 'images/pixabay_dog_003727.jpg': 4, 'images/pixabay_dog_003829.jpg': 17, 'images/pixabay_dog_003859.jpg': 31, 'images/pixabay_dog_003971.jpg': 20}\n"
     ]
    }
   ],
   "source": [
    "print(result['Eddy'])"
   ]
  },
  {
   "cell_type": "code",
   "execution_count": 10,
   "id": "fc0bdc87",
   "metadata": {},
   "outputs": [],
   "source": [
    "# calculate the fully experiment into decimal result\n",
    "for i in data.iloc():\n",
    "    if i['key_resp_4.keys']=='q':\n",
    "        result[f'{i[\"participant\"]}'][f'{i[\"img1\"]}'] += 1\n",
    "    else:\n",
    "        result[f'{i[\"participant\"]}'][f'{i[\"img2\"]}'] += 1"
   ]
  },
  {
   "cell_type": "code",
   "execution_count": 14,
   "id": "95e35361",
   "metadata": {},
   "outputs": [],
   "source": [
    "# Save result\n",
    "import numpy as np\n",
    "np.save(r'The location you would like to save',result)"
   ]
  }
 ],
 "metadata": {
  "kernelspec": {
   "display_name": "Python 3",
   "language": "python",
   "name": "python3"
  },
  "language_info": {
   "codemirror_mode": {
    "name": "ipython",
    "version": 3
   },
   "file_extension": ".py",
   "mimetype": "text/x-python",
   "name": "python",
   "nbconvert_exporter": "python",
   "pygments_lexer": "ipython3",
   "version": "3.9.4"
  }
 },
 "nbformat": 4,
 "nbformat_minor": 5
}
